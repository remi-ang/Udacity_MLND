{
 "cells": [
  {
   "cell_type": "markdown",
   "metadata": {},
   "source": [
    "# DAT210x Programming with Python for Data Science\n",
    "<a href = \"https://courses.edx.org/courses/course-v1:Microsoft+DAT210x+4T2016/info\"> EDX online course</a>"
   ]
  },
  {
   "cell_type": "code",
   "execution_count": 3,
   "metadata": {
    "collapsed": true
   },
   "outputs": [],
   "source": [
    "# imports\n",
    "\n",
    "import pandas as pd\n",
    "from sqlalchemy import create_engine\n"
   ]
  },
  {
   "cell_type": "markdown",
   "metadata": {},
   "source": [
    "# 1. manipulating the data\n",
    "\n",
    "## 1.1 load the data\n",
    "\n",
    "from a sqlite engine:\n",
    "\n",
    "    engine = create_engine('sqlite:///:memory:')\n",
    "    df = pd.read_sql_table('my_table', engine, columns=['ColA', 'ColB'])\n",
    "\n",
    "from files:\n",
    "\n",
    "    df = pd.read_excel('my_dataset.xlsx', 'sheet1', na_values=['NA'])\n",
    "    df = pd.read_json('my_dataset.json', orient='columns')\n",
    "    df = pd.read_csv('my_dataset.csv')\n",
    "\n",
    "## 1.2 write the data\n",
    "\n",
    "    df.to_sql('table', engine)\n",
    "    df.to_excel('dataset.xlsx')\n",
    "    df.to_json('dataset.json')\n",
    "    df.to_csv('dataset.csv')\n",
    "    \n",
    "## 1.3 some basic DF display\n",
    "\n",
    "    print df.head(5)\n",
    "    print df.tail(5)\n",
    "    print df.describe()\n",
    "    print df.columns\n"
   ]
  },
  {
   "cell_type": "code",
   "execution_count": 19,
   "metadata": {
    "collapsed": false
   },
   "outputs": [
    {
     "data": {
      "text/html": [
       "<div>\n",
       "<table border=\"1\" class=\"dataframe\">\n",
       "  <thead>\n",
       "    <tr style=\"text-align: right;\">\n",
       "      <th></th>\n",
       "      <th>col0</th>\n",
       "      <th>col1</th>\n",
       "      <th>col2</th>\n",
       "      <th>col3</th>\n",
       "    </tr>\n",
       "  </thead>\n",
       "  <tbody>\n",
       "    <tr>\n",
       "      <th>0</th>\n",
       "      <td>-0.722876</td>\n",
       "      <td>-1.330682</td>\n",
       "      <td>1.309208</td>\n",
       "      <td>0.232378</td>\n",
       "    </tr>\n",
       "    <tr>\n",
       "      <th>1</th>\n",
       "      <td>1.160396</td>\n",
       "      <td>-0.730879</td>\n",
       "      <td>0.677368</td>\n",
       "      <td>1.044722</td>\n",
       "    </tr>\n",
       "    <tr>\n",
       "      <th>2</th>\n",
       "      <td>-1.062870</td>\n",
       "      <td>-0.503704</td>\n",
       "      <td>-0.238536</td>\n",
       "      <td>-1.417937</td>\n",
       "    </tr>\n",
       "    <tr>\n",
       "      <th>3</th>\n",
       "      <td>0.437078</td>\n",
       "      <td>0.362640</td>\n",
       "      <td>-0.111228</td>\n",
       "      <td>-1.649853</td>\n",
       "    </tr>\n",
       "  </tbody>\n",
       "</table>\n",
       "</div>"
      ],
      "text/plain": [
       "       col0      col1      col2      col3\n",
       "0 -0.722876 -1.330682  1.309208  0.232378\n",
       "1  1.160396 -0.730879  0.677368  1.044722\n",
       "2 -1.062870 -0.503704 -0.238536 -1.417937\n",
       "3  0.437078  0.362640 -0.111228 -1.649853"
      ]
     },
     "execution_count": 19,
     "metadata": {},
     "output_type": "execute_result"
    }
   ],
   "source": [
    "# load the tutorial dataset into a pandas dataframe\n",
    "\n",
    "tutoDS_ff = r'C:\\Users\\ng35019\\Documents\\Training\\python_for_ds\\Module2\\Datasets\\tutorial.csv' \n",
    "df = pd.read_csv(tutoDS_ff)\n",
    "df"
   ]
  },
  {
   "cell_type": "markdown",
   "metadata": {},
   "source": [
    "## 1.4 Pandas DataFrame indexing reminder\n",
    "\n",
    "|Command|Description|\n",
    "|--|--|\n",
    "|<code>df.col0</code>      |by DF attribute|\n",
    "|<code>df['col0']</code>   |Serie by column name|\n",
    "|<code>df[['col0','col2']]</code> |DataFrame by column name(s)|\n",
    "|<code>df.loc[:, 'col0']</code>   |Serie by index and column name|\n",
    "|<code>df.loc[:, ['col0','col2']]</code> |DataFrame by index and column name(s)|\n",
    "|<code>df.iloc[0:2, 0]</code>   |Serie by index and column index|\n",
    "|<code>df.iloc[0:2, [0,1,2]]</code> |DataFrame by index and column index(es)|\n",
    "|<code>df.ix[0:2,['col0','col2']]</code>   |DataFrame by index and column index(es) or name|"
   ]
  },
  {
   "cell_type": "markdown",
   "metadata": {},
   "source": [
    "## 1.4 Feature Representation\n",
    "\n",
    "### 1.4.1 handle categorical features with ordering (categorical)"
   ]
  },
  {
   "cell_type": "code",
   "execution_count": 20,
   "metadata": {
    "collapsed": false
   },
   "outputs": [
    {
     "data": {
      "text/html": [
       "<div>\n",
       "<table border=\"1\" class=\"dataframe\">\n",
       "  <thead>\n",
       "    <tr style=\"text-align: right;\">\n",
       "      <th></th>\n",
       "      <th>satisfaction</th>\n",
       "    </tr>\n",
       "  </thead>\n",
       "  <tbody>\n",
       "    <tr>\n",
       "      <th>0</th>\n",
       "      <td>Mad</td>\n",
       "    </tr>\n",
       "    <tr>\n",
       "      <th>1</th>\n",
       "      <td>Happy</td>\n",
       "    </tr>\n",
       "    <tr>\n",
       "      <th>2</th>\n",
       "      <td>Unhappy</td>\n",
       "    </tr>\n",
       "    <tr>\n",
       "      <th>3</th>\n",
       "      <td>Neutral</td>\n",
       "    </tr>\n",
       "  </tbody>\n",
       "</table>\n",
       "</div>"
      ],
      "text/plain": [
       "  satisfaction\n",
       "0          Mad\n",
       "1        Happy\n",
       "2      Unhappy\n",
       "3      Neutral"
      ]
     },
     "execution_count": 20,
     "metadata": {},
     "output_type": "execute_result"
    }
   ],
   "source": [
    "# \n",
    "\n",
    "ordered_satisfaction = ['Very Unhappy', 'Unhappy', 'Neutral', 'Happy', 'Very Happy']\n",
    "df = pd.DataFrame({'satisfaction':['Mad', 'Happy', 'Unhappy', 'Neutral']}) \n",
    "df"
   ]
  },
  {
   "cell_type": "code",
   "execution_count": 21,
   "metadata": {
    "collapsed": false
   },
   "outputs": [
    {
     "data": {
      "text/html": [
       "<div>\n",
       "<table border=\"1\" class=\"dataframe\">\n",
       "  <thead>\n",
       "    <tr style=\"text-align: right;\">\n",
       "      <th></th>\n",
       "      <th>satisfaction</th>\n",
       "    </tr>\n",
       "  </thead>\n",
       "  <tbody>\n",
       "    <tr>\n",
       "      <th>0</th>\n",
       "      <td>-1</td>\n",
       "    </tr>\n",
       "    <tr>\n",
       "      <th>1</th>\n",
       "      <td>3</td>\n",
       "    </tr>\n",
       "    <tr>\n",
       "      <th>2</th>\n",
       "      <td>1</td>\n",
       "    </tr>\n",
       "    <tr>\n",
       "      <th>3</th>\n",
       "      <td>2</td>\n",
       "    </tr>\n",
       "  </tbody>\n",
       "</table>\n",
       "</div>"
      ],
      "text/plain": [
       "   satisfaction\n",
       "0            -1\n",
       "1             3\n",
       "2             1\n",
       "3             2"
      ]
     },
     "execution_count": 21,
     "metadata": {},
     "output_type": "execute_result"
    }
   ],
   "source": [
    "df.satisfaction = df.satisfaction.astype(\"category\", ordered=True, categories=ordered_satisfaction).cat.codes\n",
    "df"
   ]
  },
  {
   "cell_type": "markdown",
   "metadata": {},
   "source": [
    "### 1.4.2 methods to handle categorical features without ordering (nomical):\n",
    "\n",
    "#### method 1 - encode by alphabetical order"
   ]
  },
  {
   "cell_type": "code",
   "execution_count": 23,
   "metadata": {
    "collapsed": false
   },
   "outputs": [
    {
     "data": {
      "text/html": [
       "<div>\n",
       "<table border=\"1\" class=\"dataframe\">\n",
       "  <thead>\n",
       "    <tr style=\"text-align: right;\">\n",
       "      <th></th>\n",
       "      <th>vertebrates</th>\n",
       "    </tr>\n",
       "  </thead>\n",
       "  <tbody>\n",
       "    <tr>\n",
       "      <th>0</th>\n",
       "      <td>1</td>\n",
       "    </tr>\n",
       "    <tr>\n",
       "      <th>1</th>\n",
       "      <td>1</td>\n",
       "    </tr>\n",
       "    <tr>\n",
       "      <th>2</th>\n",
       "      <td>3</td>\n",
       "    </tr>\n",
       "    <tr>\n",
       "      <th>3</th>\n",
       "      <td>2</td>\n",
       "    </tr>\n",
       "    <tr>\n",
       "      <th>4</th>\n",
       "      <td>0</td>\n",
       "    </tr>\n",
       "    <tr>\n",
       "      <th>5</th>\n",
       "      <td>4</td>\n",
       "    </tr>\n",
       "    <tr>\n",
       "      <th>6</th>\n",
       "      <td>3</td>\n",
       "    </tr>\n",
       "  </tbody>\n",
       "</table>\n",
       "</div>"
      ],
      "text/plain": [
       "   vertebrates\n",
       "0            1\n",
       "1            1\n",
       "2            3\n",
       "3            2\n",
       "4            0\n",
       "5            4\n",
       "6            3"
      ]
     },
     "execution_count": 23,
     "metadata": {},
     "output_type": "execute_result"
    }
   ],
   "source": [
    "\n",
    "df = pd.DataFrame({'vertebrates':['Bird','Bird','Mammal','Fish','Amphibian','Reptile','Mammal',]})\n",
    "df['vertebrates'] = df.vertebrates.astype(\"category\").cat.codes\n",
    "df"
   ]
  },
  {
   "cell_type": "markdown",
   "metadata": {},
   "source": [
    "#### method 2 - explosion in individual boolean features"
   ]
  },
  {
   "cell_type": "code",
   "execution_count": 27,
   "metadata": {
    "collapsed": false,
    "scrolled": false
   },
   "outputs": [
    {
     "data": {
      "text/html": [
       "<div>\n",
       "<table border=\"1\" class=\"dataframe\">\n",
       "  <thead>\n",
       "    <tr style=\"text-align: right;\">\n",
       "      <th></th>\n",
       "      <th>vertebrates_Amphibian</th>\n",
       "      <th>vertebrates_Bird</th>\n",
       "      <th>vertebrates_Fish</th>\n",
       "      <th>vertebrates_Mammal</th>\n",
       "      <th>vertebrates_Reptile</th>\n",
       "    </tr>\n",
       "  </thead>\n",
       "  <tbody>\n",
       "    <tr>\n",
       "      <th>0</th>\n",
       "      <td>0</td>\n",
       "      <td>1</td>\n",
       "      <td>0</td>\n",
       "      <td>0</td>\n",
       "      <td>0</td>\n",
       "    </tr>\n",
       "    <tr>\n",
       "      <th>1</th>\n",
       "      <td>0</td>\n",
       "      <td>1</td>\n",
       "      <td>0</td>\n",
       "      <td>0</td>\n",
       "      <td>0</td>\n",
       "    </tr>\n",
       "    <tr>\n",
       "      <th>2</th>\n",
       "      <td>0</td>\n",
       "      <td>0</td>\n",
       "      <td>0</td>\n",
       "      <td>1</td>\n",
       "      <td>0</td>\n",
       "    </tr>\n",
       "    <tr>\n",
       "      <th>3</th>\n",
       "      <td>0</td>\n",
       "      <td>0</td>\n",
       "      <td>1</td>\n",
       "      <td>0</td>\n",
       "      <td>0</td>\n",
       "    </tr>\n",
       "    <tr>\n",
       "      <th>4</th>\n",
       "      <td>1</td>\n",
       "      <td>0</td>\n",
       "      <td>0</td>\n",
       "      <td>0</td>\n",
       "      <td>0</td>\n",
       "    </tr>\n",
       "    <tr>\n",
       "      <th>5</th>\n",
       "      <td>0</td>\n",
       "      <td>0</td>\n",
       "      <td>0</td>\n",
       "      <td>0</td>\n",
       "      <td>1</td>\n",
       "    </tr>\n",
       "    <tr>\n",
       "      <th>6</th>\n",
       "      <td>0</td>\n",
       "      <td>0</td>\n",
       "      <td>0</td>\n",
       "      <td>1</td>\n",
       "      <td>0</td>\n",
       "    </tr>\n",
       "  </tbody>\n",
       "</table>\n",
       "</div>"
      ],
      "text/plain": [
       "   vertebrates_Amphibian  vertebrates_Bird  vertebrates_Fish  \\\n",
       "0                      0                 1                 0   \n",
       "1                      0                 1                 0   \n",
       "2                      0                 0                 0   \n",
       "3                      0                 0                 1   \n",
       "4                      1                 0                 0   \n",
       "5                      0                 0                 0   \n",
       "6                      0                 0                 0   \n",
       "\n",
       "   vertebrates_Mammal  vertebrates_Reptile  \n",
       "0                   0                    0  \n",
       "1                   0                    0  \n",
       "2                   1                    0  \n",
       "3                   0                    0  \n",
       "4                   0                    0  \n",
       "5                   0                    1  \n",
       "6                   1                    0  "
      ]
     },
     "execution_count": 27,
     "metadata": {},
     "output_type": "execute_result"
    }
   ],
   "source": [
    "df = pd.DataFrame({'vertebrates':['Bird','Bird','Mammal','Fish','Amphibian','Reptile','Mammal',]})\n",
    "df = pd.get_dummies(df, columns = ['vertebrates'])\n",
    "df"
   ]
  },
  {
   "cell_type": "markdown",
   "metadata": {},
   "source": [
    "### 1.4.3 handle textual features, bag of words"
   ]
  },
  {
   "cell_type": "code",
   "execution_count": 33,
   "metadata": {
    "collapsed": false
   },
   "outputs": [
    {
     "name": "stdout",
     "output_type": "stream",
     "text": [
      "features names:\n",
      "\n",
      "['an', 'and', 'athlete', 'authman', 'because', 'faster', 'harry', 'he', 'is', 'ran', 'than']\n",
      "\n",
      "corpus transformation array:\n",
      "\n",
      "[[1 0 1 1 1 1 1 1 1 1 1]\n",
      " [0 2 0 1 0 2 1 0 0 1 0]]\n"
     ]
    }
   ],
   "source": [
    "from sklearn.feature_extraction.text import CountVectorizer\n",
    "\n",
    "corpus = [\n",
    "        \"Authman ran faster than Harry because he is an athlete\",\n",
    "        \"Authman and Harry ran faster and faster\"\n",
    "]\n",
    "\n",
    "bow = CountVectorizer()\n",
    "X = bow.fit_transform(corpus)\n",
    "\n",
    "print('features names:\\n')\n",
    "print(bow.get_feature_names())\n",
    "\n",
    "print('\\ncorpus transformation array:\\n')\n",
    "print(X.toarray())"
   ]
  },
  {
   "cell_type": "markdown",
   "metadata": {},
   "source": [
    "### 1.4.4 handle image"
   ]
  },
  {
   "cell_type": "code",
   "execution_count": 34,
   "metadata": {
    "collapsed": true
   },
   "outputs": [],
   "source": [
    "# import scipy: generic scientifical library\n",
    "\n",
    "from scipy import misc"
   ]
  },
  {
   "cell_type": "code",
   "execution_count": 51,
   "metadata": {
    "collapsed": false
   },
   "outputs": [
    {
     "name": "stdout",
     "output_type": "stream",
     "text": [
      "img type : <class 'numpy.ndarray'>\n",
      "img shape: (286, 903, 3) , img dtype: uint8\n",
      "img shape : (64636, 3)\n",
      "grey shape: (64636,)\n"
     ]
    }
   ],
   "source": [
    "image_ff = r'C:\\Users\\ng35019\\Pictures\\Calvin_Hobbes\\calvin-and-hobbes-procrastination.png'\n",
    "\n",
    "img = misc.imread(image_ff)\n",
    "\n",
    "print(\"img type : {}\".format(type(img)))\n",
    "print(\"img shape: {} , img dtype: {}\".format(img.shape, img.dtype))\n",
    "\n",
    "# shrink image down for faster computing\n",
    "img = img[::2, ::2]\n",
    "\n",
    "# scla the scolor form 0-255 to 0-1, reshape to a 1D array\n",
    "img = (img / 255.0).reshape(-1, 3)\n",
    "\n",
    "red   = img[:,0]\n",
    "green = img[:,1]\n",
    "blue  = img[:,2]\n",
    "\n",
    "# gray scale\n",
    "gray = (0.299*red + 0.587*green  + 0.114*blue)\n",
    "\n",
    "print(\"img shape : {}\".format(img.shape))\n",
    "print(\"grey shape: {}\".format(gray.shape))\n"
   ]
  },
  {
   "cell_type": "markdown",
   "metadata": {},
   "source": [
    "## 1.5 Wrangle the data\n",
    "\n",
    "### 1.5.1 Handle the holes\n",
    "\n",
    "|Command|Description|\n",
    "|--|--|\n",
    "|<code>df.Unemployed.isnull()</code>|search ALL null values|\n",
    "|<code>df.notnull()</code>|search ALL not null values|\n",
    "|<code>df.fillna(0)</code>|replace ALL null values by 0|\n",
    "|<code>df.my_feature.fillna(0)</code>|replace a specific feature null values by 0|\n",
    "|<code>df.fillna(method='ffill', limit=1)</code>|forward fill null values|\n",
    "|<code>df.fillna(method='bfill', limit=1)</code>|backward fill null values|\n",
    "|<code>df.fillna(limit=5)</code>|set fill limit to 5|\n",
    "|<code>df.interpolate(method='polynomial', order=2)</code>|interpolate between values (also: nearest, cubic, spline,...)|\n",
    "|<code>df.dropna(axis=0,thresh=4)</code>|drop all rows with more than 4 NaNs|\n",
    "|<code>df.dropna(axis=1)</code>|drop all columns with holes (NOT recommanded!)|\n",
    "|<code>df.drop_duplicates(subset=['Major_category','Total'].reset_index())</code>|drop duplicates and reset index|\n",
    "\n",
    "### 1.5.2 handle the data types\n",
    "\n",
    "|Command|Description|\n",
    "|--|--|\n",
    "|<code>pd.to_datetime(df.Date, errors='coerce')</code>|convert columns values to datetime, enter NaN for errors|\n",
    "|<code>pd.to_timedelta(df.Date, errors='coerce')</code>|convert columns values to time delta|\n",
    "|<code>pd.to_numeric(df.Height, errors='coerce')</code>|convert columns values to numeric|\n",
    "\n",
    "### 1.5.3 explore the dataset\n",
    "\n",
    "|Command|Description|\n",
    "|--|--|\n",
    "|<code></code>||\n",
    "|<code>df.a_feature.unique())</code>|Show unique values of a column|\n",
    "|<code>df.a_feature.value_counts())</code>|Show values occurences of a column|"
   ]
  }
 ],
 "metadata": {
  "kernelspec": {
   "display_name": "Python 3",
   "language": "python",
   "name": "python3"
  },
  "language_info": {
   "codemirror_mode": {
    "name": "ipython",
    "version": 3
   },
   "file_extension": ".py",
   "mimetype": "text/x-python",
   "name": "python",
   "nbconvert_exporter": "python",
   "pygments_lexer": "ipython3",
   "version": "3.6.0"
  }
 },
 "nbformat": 4,
 "nbformat_minor": 2
}
