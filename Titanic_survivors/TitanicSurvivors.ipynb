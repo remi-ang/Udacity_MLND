{
 "cells": [
  {
   "cell_type": "markdown",
   "metadata": {},
   "source": [
    "# Titanic survivors\n",
    "by Remi Ang (remi.r.ang@gmail.com)"
   ]
  },
  {
   "cell_type": "markdown",
   "metadata": {},
   "source": [
    "<h1>1/ Initialization : </h1>\n",
    "import pandas, os packages, define input datasets directory and files, rebuild paths"
   ]
  },
  {
   "cell_type": "code",
   "execution_count": 1,
   "metadata": {},
   "outputs": [],
   "source": [
    "import pandas as pd\n",
    "import os\n",
    "\n",
    "# data files\n",
    "train_file = 'Titanic_train.csv'\n",
    "test_file = 'Titanic_test.csv'"
   ]
  },
  {
   "cell_type": "markdown",
   "metadata": {},
   "source": [
    "<h1>2. Load the TRAIN dataset</h1> index 1st column (passenger ID) and display 10 first lines"
   ]
  },
  {
   "cell_type": "code",
   "execution_count": 4,
   "metadata": {},
   "outputs": [],
   "source": [
    "# load training dataset\n",
    "\n",
    "train = pd.read_csv(train_file)\n",
    "# Index the dataframe with the passenger ID, yield a new object and remove the passenger ID column\n",
    "train.set_index('PassengerId', inplace=True, drop=True)"
   ]
  },
  {
   "cell_type": "markdown",
   "metadata": {},
   "source": [
    "<h1>3. Explore the TRAIN dataset</h1>\n",
    "display first 10 rows, show types and count"
   ]
  },
  {
   "cell_type": "code",
   "execution_count": 5,
   "metadata": {},
   "outputs": [
    {
     "name": "stdout",
     "output_type": "stream",
     "text": [
      "The training dataset contains 891 samples and 11 features\n"
     ]
    }
   ],
   "source": [
    "print('The training dataset contains {} samples and {} features'.format(train.shape[0],train.shape[1]))"
   ]
  },
  {
   "cell_type": "code",
   "execution_count": 6,
   "metadata": {},
   "outputs": [
    {
     "data": {
      "text/html": [
       "<div>\n",
       "<style scoped>\n",
       "    .dataframe tbody tr th:only-of-type {\n",
       "        vertical-align: middle;\n",
       "    }\n",
       "\n",
       "    .dataframe tbody tr th {\n",
       "        vertical-align: top;\n",
       "    }\n",
       "\n",
       "    .dataframe thead th {\n",
       "        text-align: right;\n",
       "    }\n",
       "</style>\n",
       "<table border=\"1\" class=\"dataframe\">\n",
       "  <thead>\n",
       "    <tr style=\"text-align: right;\">\n",
       "      <th></th>\n",
       "      <th>Survived</th>\n",
       "      <th>Pclass</th>\n",
       "      <th>Name</th>\n",
       "      <th>Sex</th>\n",
       "      <th>Age</th>\n",
       "      <th>SibSp</th>\n",
       "      <th>Parch</th>\n",
       "      <th>Ticket</th>\n",
       "      <th>Fare</th>\n",
       "      <th>Cabin</th>\n",
       "      <th>Embarked</th>\n",
       "    </tr>\n",
       "    <tr>\n",
       "      <th>PassengerId</th>\n",
       "      <th></th>\n",
       "      <th></th>\n",
       "      <th></th>\n",
       "      <th></th>\n",
       "      <th></th>\n",
       "      <th></th>\n",
       "      <th></th>\n",
       "      <th></th>\n",
       "      <th></th>\n",
       "      <th></th>\n",
       "      <th></th>\n",
       "    </tr>\n",
       "  </thead>\n",
       "  <tbody>\n",
       "    <tr>\n",
       "      <th>1</th>\n",
       "      <td>0</td>\n",
       "      <td>3</td>\n",
       "      <td>Braund, Mr. Owen Harris</td>\n",
       "      <td>male</td>\n",
       "      <td>22.0</td>\n",
       "      <td>1</td>\n",
       "      <td>0</td>\n",
       "      <td>A/5 21171</td>\n",
       "      <td>7.2500</td>\n",
       "      <td>NaN</td>\n",
       "      <td>S</td>\n",
       "    </tr>\n",
       "    <tr>\n",
       "      <th>2</th>\n",
       "      <td>1</td>\n",
       "      <td>1</td>\n",
       "      <td>Cumings, Mrs. John Bradley (Florence Briggs Th...</td>\n",
       "      <td>female</td>\n",
       "      <td>38.0</td>\n",
       "      <td>1</td>\n",
       "      <td>0</td>\n",
       "      <td>PC 17599</td>\n",
       "      <td>71.2833</td>\n",
       "      <td>C85</td>\n",
       "      <td>C</td>\n",
       "    </tr>\n",
       "    <tr>\n",
       "      <th>3</th>\n",
       "      <td>1</td>\n",
       "      <td>3</td>\n",
       "      <td>Heikkinen, Miss. Laina</td>\n",
       "      <td>female</td>\n",
       "      <td>26.0</td>\n",
       "      <td>0</td>\n",
       "      <td>0</td>\n",
       "      <td>STON/O2. 3101282</td>\n",
       "      <td>7.9250</td>\n",
       "      <td>NaN</td>\n",
       "      <td>S</td>\n",
       "    </tr>\n",
       "    <tr>\n",
       "      <th>4</th>\n",
       "      <td>1</td>\n",
       "      <td>1</td>\n",
       "      <td>Futrelle, Mrs. Jacques Heath (Lily May Peel)</td>\n",
       "      <td>female</td>\n",
       "      <td>35.0</td>\n",
       "      <td>1</td>\n",
       "      <td>0</td>\n",
       "      <td>113803</td>\n",
       "      <td>53.1000</td>\n",
       "      <td>C123</td>\n",
       "      <td>S</td>\n",
       "    </tr>\n",
       "    <tr>\n",
       "      <th>5</th>\n",
       "      <td>0</td>\n",
       "      <td>3</td>\n",
       "      <td>Allen, Mr. William Henry</td>\n",
       "      <td>male</td>\n",
       "      <td>35.0</td>\n",
       "      <td>0</td>\n",
       "      <td>0</td>\n",
       "      <td>373450</td>\n",
       "      <td>8.0500</td>\n",
       "      <td>NaN</td>\n",
       "      <td>S</td>\n",
       "    </tr>\n",
       "    <tr>\n",
       "      <th>6</th>\n",
       "      <td>0</td>\n",
       "      <td>3</td>\n",
       "      <td>Moran, Mr. James</td>\n",
       "      <td>male</td>\n",
       "      <td>NaN</td>\n",
       "      <td>0</td>\n",
       "      <td>0</td>\n",
       "      <td>330877</td>\n",
       "      <td>8.4583</td>\n",
       "      <td>NaN</td>\n",
       "      <td>Q</td>\n",
       "    </tr>\n",
       "    <tr>\n",
       "      <th>7</th>\n",
       "      <td>0</td>\n",
       "      <td>1</td>\n",
       "      <td>McCarthy, Mr. Timothy J</td>\n",
       "      <td>male</td>\n",
       "      <td>54.0</td>\n",
       "      <td>0</td>\n",
       "      <td>0</td>\n",
       "      <td>17463</td>\n",
       "      <td>51.8625</td>\n",
       "      <td>E46</td>\n",
       "      <td>S</td>\n",
       "    </tr>\n",
       "    <tr>\n",
       "      <th>8</th>\n",
       "      <td>0</td>\n",
       "      <td>3</td>\n",
       "      <td>Palsson, Master. Gosta Leonard</td>\n",
       "      <td>male</td>\n",
       "      <td>2.0</td>\n",
       "      <td>3</td>\n",
       "      <td>1</td>\n",
       "      <td>349909</td>\n",
       "      <td>21.0750</td>\n",
       "      <td>NaN</td>\n",
       "      <td>S</td>\n",
       "    </tr>\n",
       "    <tr>\n",
       "      <th>9</th>\n",
       "      <td>1</td>\n",
       "      <td>3</td>\n",
       "      <td>Johnson, Mrs. Oscar W (Elisabeth Vilhelmina Berg)</td>\n",
       "      <td>female</td>\n",
       "      <td>27.0</td>\n",
       "      <td>0</td>\n",
       "      <td>2</td>\n",
       "      <td>347742</td>\n",
       "      <td>11.1333</td>\n",
       "      <td>NaN</td>\n",
       "      <td>S</td>\n",
       "    </tr>\n",
       "    <tr>\n",
       "      <th>10</th>\n",
       "      <td>1</td>\n",
       "      <td>2</td>\n",
       "      <td>Nasser, Mrs. Nicholas (Adele Achem)</td>\n",
       "      <td>female</td>\n",
       "      <td>14.0</td>\n",
       "      <td>1</td>\n",
       "      <td>0</td>\n",
       "      <td>237736</td>\n",
       "      <td>30.0708</td>\n",
       "      <td>NaN</td>\n",
       "      <td>C</td>\n",
       "    </tr>\n",
       "  </tbody>\n",
       "</table>\n",
       "</div>"
      ],
      "text/plain": [
       "             Survived  Pclass  \\\n",
       "PassengerId                     \n",
       "1                   0       3   \n",
       "2                   1       1   \n",
       "3                   1       3   \n",
       "4                   1       1   \n",
       "5                   0       3   \n",
       "6                   0       3   \n",
       "7                   0       1   \n",
       "8                   0       3   \n",
       "9                   1       3   \n",
       "10                  1       2   \n",
       "\n",
       "                                                          Name     Sex   Age  \\\n",
       "PassengerId                                                                    \n",
       "1                                      Braund, Mr. Owen Harris    male  22.0   \n",
       "2            Cumings, Mrs. John Bradley (Florence Briggs Th...  female  38.0   \n",
       "3                                       Heikkinen, Miss. Laina  female  26.0   \n",
       "4                 Futrelle, Mrs. Jacques Heath (Lily May Peel)  female  35.0   \n",
       "5                                     Allen, Mr. William Henry    male  35.0   \n",
       "6                                             Moran, Mr. James    male   NaN   \n",
       "7                                      McCarthy, Mr. Timothy J    male  54.0   \n",
       "8                               Palsson, Master. Gosta Leonard    male   2.0   \n",
       "9            Johnson, Mrs. Oscar W (Elisabeth Vilhelmina Berg)  female  27.0   \n",
       "10                         Nasser, Mrs. Nicholas (Adele Achem)  female  14.0   \n",
       "\n",
       "             SibSp  Parch            Ticket     Fare Cabin Embarked  \n",
       "PassengerId                                                          \n",
       "1                1      0         A/5 21171   7.2500   NaN        S  \n",
       "2                1      0          PC 17599  71.2833   C85        C  \n",
       "3                0      0  STON/O2. 3101282   7.9250   NaN        S  \n",
       "4                1      0            113803  53.1000  C123        S  \n",
       "5                0      0            373450   8.0500   NaN        S  \n",
       "6                0      0            330877   8.4583   NaN        Q  \n",
       "7                0      0             17463  51.8625   E46        S  \n",
       "8                3      1            349909  21.0750   NaN        S  \n",
       "9                0      2            347742  11.1333   NaN        S  \n",
       "10               1      0            237736  30.0708   NaN        C  "
      ]
     },
     "execution_count": 6,
     "metadata": {},
     "output_type": "execute_result"
    }
   ],
   "source": [
    "train.head(10)"
   ]
  },
  {
   "cell_type": "code",
   "execution_count": 7,
   "metadata": {},
   "outputs": [
    {
     "data": {
      "text/plain": [
       "Index(['Survived', 'Pclass', 'Name', 'Sex', 'Age', 'SibSp', 'Parch', 'Ticket',\n",
       "       'Fare', 'Cabin', 'Embarked'],\n",
       "      dtype='object')"
      ]
     },
     "execution_count": 7,
     "metadata": {},
     "output_type": "execute_result"
    }
   ],
   "source": [
    "train.columns"
   ]
  },
  {
   "cell_type": "code",
   "execution_count": 8,
   "metadata": {},
   "outputs": [
    {
     "data": {
      "text/plain": [
       "Survived      int64\n",
       "Pclass        int64\n",
       "Name         object\n",
       "Sex          object\n",
       "Age         float64\n",
       "SibSp         int64\n",
       "Parch         int64\n",
       "Ticket       object\n",
       "Fare        float64\n",
       "Cabin        object\n",
       "Embarked     object\n",
       "dtype: object"
      ]
     },
     "execution_count": 8,
     "metadata": {},
     "output_type": "execute_result"
    }
   ],
   "source": [
    "train.dtypes"
   ]
  },
  {
   "cell_type": "code",
   "execution_count": 9,
   "metadata": {},
   "outputs": [
    {
     "data": {
      "text/plain": [
       "Survived    891\n",
       "Pclass      891\n",
       "Name        891\n",
       "Sex         891\n",
       "Age         714\n",
       "SibSp       891\n",
       "Parch       891\n",
       "Ticket      891\n",
       "Fare        891\n",
       "Cabin       204\n",
       "Embarked    889\n",
       "dtype: int64"
      ]
     },
     "execution_count": 9,
     "metadata": {},
     "output_type": "execute_result"
    }
   ],
   "source": [
    "train.count(axis=0)"
   ]
  },
  {
   "cell_type": "markdown",
   "metadata": {},
   "source": [
    "* `Cabin` column is very incomplete, will need some wrangling\n",
    "* `SibSp`, `Parch` and `Fare` are continue and complete"
   ]
  },
  {
   "cell_type": "markdown",
   "metadata": {},
   "source": [
    "<h1> 4. Prediction value parsing</h1>"
   ]
  },
  {
   "cell_type": "code",
   "execution_count": 10,
   "metadata": {},
   "outputs": [],
   "source": [
    "def parse_model_0(X):\n",
    "    target = X.Survived\n",
    "    X = X[['Fare','SibSp','Parch']]\n",
    "    return (X, target)\n",
    "\n",
    "X, y = parse_model_0(train.copy())"
   ]
  },
  {
   "cell_type": "markdown",
   "metadata": {},
   "source": [
    "<h1>5. Logistic regression score cross validation</h1>\n",
    "Average of 5 cross-validations"
   ]
  },
  {
   "cell_type": "code",
   "execution_count": 12,
   "metadata": {},
   "outputs": [],
   "source": [
    "from sklearn.model_selection import cross_val_score\n",
    "from statistics import mean\n",
    "def compute_score(clf, X, y):\n",
    "    xval = cross_val_score(clf, X, y, cv = 5)\n",
    "    return mean(xval)"
   ]
  },
  {
   "cell_type": "code",
   "execution_count": 13,
   "metadata": {},
   "outputs": [
    {
     "data": {
      "text/plain": [
       "0.674548857768335"
      ]
     },
     "execution_count": 13,
     "metadata": {},
     "output_type": "execute_result"
    }
   ],
   "source": [
    "from sklearn.linear_model import LogisticRegression\n",
    "lr = LogisticRegression()\n",
    "compute_score(lr, X, y)"
   ]
  },
  {
   "cell_type": "markdown",
   "metadata": {},
   "source": [
    "<h1>6. Variables studies</h1>"
   ]
  },
  {
   "cell_type": "code",
   "execution_count": 14,
   "metadata": {},
   "outputs": [
    {
     "name": "stdout",
     "output_type": "stream",
     "text": [
      "survivors : 342 | dead : 549\n"
     ]
    }
   ],
   "source": [
    "# split the dataset in 2 populations : dead and survived\n",
    "survived = train[train.Survived == 1]\n",
    "dead = train[train.Survived == 0]\n",
    "\n",
    "print('survivors : %d | dead : %s'%(survived.shape[0],dead.shape[0]))"
   ]
  },
  {
   "cell_type": "code",
   "execution_count": 15,
   "metadata": {},
   "outputs": [
    {
     "data": {
      "image/png": "[encoded data removed]",
      "text/plain": [
       "<matplotlib.figure.Figure at 0x1a157e8da0>"
      ]
     },
     "metadata": {},
     "output_type": "display_data"
    },
    {
     "data": {
      "image/png": "[encoded data removed]",
      "text/plain": [
       "<matplotlib.figure.Figure at 0x1a1f11a780>"
      ]
     },
     "metadata": {},
     "output_type": "display_data"
    },
    {
     "data": {
      "image/png": "[encoded data removed]",
      "text/plain": [
       "<matplotlib.figure.Figure at 0x1a1f2bce10>"
      ]
     },
     "metadata": {},
     "output_type": "display_data"
    }
   ],
   "source": [
    "%matplotlib inline\n",
    "import matplotlib.pyplot as plt\n",
    "from numpy import array, ones_like\n",
    "def plot_hist(feature, bins = 20):\n",
    "    x1 = array(dead[feature].dropna())\n",
    "    x2 = array(survived[feature].dropna())\n",
    "    \n",
    "    plt.hist([x1,x2],label=['Dead','Survived'], bins = bins)\n",
    "    plt.legend(loc = 'upper left')\n",
    "    plt.title('*{}* relative distribution'.format(feature))\n",
    "    plt.show()\n",
    "    \n",
    "plot_hist('Pclass')\n",
    "plot_hist('Age')\n",
    "plot_hist('Fare')      "
   ]
  },
  {
   "cell_type": "markdown",
   "metadata": {},
   "source": [
    "<h1>7. Parse PClass</h1>"
   ]
  },
  {
   "cell_type": "code",
   "execution_count": 16,
   "metadata": {},
   "outputs": [
    {
     "data": {
      "text/plain": [
       "0.6926591973081655"
      ]
     },
     "execution_count": 16,
     "metadata": {},
     "output_type": "execute_result"
    }
   ],
   "source": [
    "#help(pd.get_dummies)\n",
    "\n",
    "def parse_model_1(X):\n",
    "    target = X.Survived \n",
    "    class_dummies = pd.get_dummies(X['Pclass'], prefix='split_class')\n",
    "    X = X.join(class_dummies)\n",
    "    \n",
    "    # remove useless columns\n",
    "    to_del = ['Name','Age','Cabin','Embarked','Survived','Ticket','Pclass','Sex']\n",
    "    for col in to_del : del X[col]\n",
    "    return X, target\n",
    "\n",
    "X, y = parse_model_1(train.copy())\n",
    "compute_score(lr, X, y)"
   ]
  },
  {
   "cell_type": "markdown",
   "metadata": {},
   "source": [
    "see variable weights..."
   ]
  },
  {
   "cell_type": "code",
   "execution_count": 17,
   "metadata": {},
   "outputs": [
    {
     "name": "stdout",
     "output_type": "stream",
     "text": [
      "[[-0.150896    0.23357229  0.00669907  0.3730938   0.100852   -0.85258357]]\n"
     ]
    },
    {
     "data": {
      "text/plain": [
       "<Container object of 6 artists>"
      ]
     },
     "execution_count": 17,
     "metadata": {},
     "output_type": "execute_result"
    },
    {
     "data": {
      "image/png": "[encoded data removed]",
      "text/plain": [
       "<matplotlib.figure.Figure at 0x1a1f479d68>"
      ]
     },
     "metadata": {},
     "output_type": "display_data"
    }
   ],
   "source": [
    "lr.fit(X, y)\n",
    "print(lr.coef_)\n",
    "plt.bar(range(len(X.columns)),lr.coef_[0],1/1.5,tick_label = X.columns)"
   ]
  },
  {
   "cell_type": "markdown",
   "metadata": {},
   "source": [
    "<h1>8. Age and Sex</h1>"
   ]
  },
  {
   "cell_type": "code",
   "execution_count": 18,
   "metadata": {},
   "outputs": [
    {
     "data": {
      "text/plain": [
       "0.7868160254657532"
      ]
     },
     "execution_count": 18,
     "metadata": {},
     "output_type": "execute_result"
    }
   ],
   "source": [
    "def parse_model_2(X):\n",
    "    target = X.Survived\n",
    "    \n",
    "    # parse Pclass and Sex\n",
    "    to_dummy = ['Pclass','Sex']\n",
    "    for dum in to_dummy:\n",
    "        split_temp = pd.get_dummies(X[dum], prefix = 'split_'+dum)\n",
    "        for col in split_temp :\n",
    "            X[col] = split_temp[col]\n",
    "        del X[dum]\n",
    "    \n",
    "    #complete issing ages with median\n",
    "    X['Age'] = X.Age.fillna(X.Age.median())\n",
    "    \n",
    "    # remove useless columns\n",
    "    to_del = ['Name','Cabin','Embarked','Survived','Ticket']\n",
    "    for col in to_del : del X[col]\n",
    "    return X, target\n",
    "\n",
    "X, y = parse_model_2(train.copy())\n",
    "compute_score(lr, X, y)"
   ]
  },
  {
   "cell_type": "markdown",
   "metadata": {},
   "source": [
    "Age : Is it a child "
   ]
  },
  {
   "cell_type": "code",
   "execution_count": 19,
   "metadata": {},
   "outputs": [
    {
     "name": "stdout",
     "output_type": "stream",
     "text": [
      "Score : 0.800274134181057\n",
      "Coefficient weights : [[-0.02230835 -0.42181305 -0.19815929  0.004332    1.06824222  0.18410878\n",
      "  -0.82525062  1.59541267 -1.1683123   1.72150169]]\n"
     ]
    },
    {
     "data": {
      "text/plain": [
       "<Container object of 10 artists>"
      ]
     },
     "execution_count": 19,
     "metadata": {},
     "output_type": "execute_result"
    },
    {
     "data": {
      "image/png": "[encoded data removed]",
      "text/plain": [
       "<matplotlib.figure.Figure at 0x1a1f33db00>"
      ]
     },
     "metadata": {},
     "output_type": "display_data"
    }
   ],
   "source": [
    "def parse_model_3(X):\n",
    "    target = X.Survived\n",
    "    \n",
    "    # parse Pclass and Sex\n",
    "    to_dummy = ['Pclass','Sex']\n",
    "    for dum in to_dummy:\n",
    "        split_temp = pd.get_dummies(X[dum], prefix = 'split_'+dum)\n",
    "        for col in split_temp :\n",
    "            X[col] = split_temp[col]\n",
    "        del X[dum]\n",
    "    \n",
    "    #complete issing ages with median\n",
    "    X['Age'] = X.Age.fillna(X.Age.median())\n",
    "    X['is_child'] = X.Age < 8\n",
    "    \n",
    "    # remove useless columns\n",
    "    to_del = ['Name','Cabin','Embarked','Survived','Ticket']\n",
    "    for col in to_del : del X[col]\n",
    "    return X, target\n",
    "\n",
    "X, y = parse_model_3(train.copy())\n",
    "score = compute_score(lr, X, y)\n",
    "print('Score : {}'.format(score))\n",
    "lr.fit(X, y)\n",
    "print('Coefficient weights : {}'.format(lr.coef_))\n",
    "plt.bar(range(len(X.columns)),lr.coef_[0],1/1.5,tick_label = X.columns)"
   ]
  },
  {
   "cell_type": "markdown",
   "metadata": {},
   "source": [
    "<h1>9. Random Forest</h1>"
   ]
  },
  {
   "cell_type": "code",
   "execution_count": 20,
   "metadata": {},
   "outputs": [
    {
     "data": {
      "text/plain": [
       "0.8093006315725266"
      ]
     },
     "execution_count": 20,
     "metadata": {},
     "output_type": "execute_result"
    }
   ],
   "source": [
    "from sklearn.ensemble import RandomForestClassifier\n",
    "rf = RandomForestClassifier()\n",
    "\n",
    "X, y = parse_model_2(train.copy())\n",
    "compute_score(rf, X, y)"
   ]
  },
  {
   "cell_type": "markdown",
   "metadata": {},
   "source": [
    "Estimation of relative importance of variables"
   ]
  },
  {
   "cell_type": "code",
   "execution_count": 21,
   "metadata": {},
   "outputs": [
    {
     "name": "stdout",
     "output_type": "stream",
     "text": [
      "Score : 0.8070154235053925\n"
     ]
    },
    {
     "data": {
      "image/png": "[encoded data removed]",
      "text/plain": [
       "<matplotlib.figure.Figure at 0x1a1f1525c0>"
      ]
     },
     "metadata": {},
     "output_type": "display_data"
    },
    {
     "name": "stdout",
     "output_type": "stream",
     "text": [
      "1. feature : Fare (0.287062)\n",
      "2. feature : Age (0.226019)\n",
      "3. feature : split_Sex_female (0.180399)\n",
      "4. feature : split_Sex_male (0.117245)\n",
      "5. feature : SibSp (0.053239)\n",
      "6. feature : split_Pclass_3 (0.048954)\n",
      "7. feature : Parch (0.031811)\n",
      "8. feature : split_Pclass_1 (0.030539)\n",
      "9. feature : is_child (0.014389)\n",
      "10. feature : split_Pclass_2 (0.010342)\n"
     ]
    }
   ],
   "source": [
    "def clf_importance(X, clf):\n",
    "    import pylab as pl\n",
    "    import numpy as np\n",
    "    importances = clf.feature_importances_\n",
    "    indices = np.argsort(importances)[::-1]\n",
    "    pl.title(\"Feature importances\")\n",
    "    for tree in clf.estimators_:\n",
    "        pl.plot(range(X.shape[1]), tree.feature_importances_[indices],\"r\")\n",
    "        pl.plot(range(X.shape[1]), importances[indices], \"b\")\n",
    "    pl.show()\n",
    "    for f in range(X.shape[1]):\n",
    "        print(\"%d. feature : %s (%f)\"% (f + 1, X.columns[indices[f]],importances[indices[f]]))\n",
    "\n",
    "X, y = parse_model_3(train.copy())\n",
    "score = compute_score(rf, X, y)\n",
    "print('Score : {}'.format(score))\n",
    "rf.fit(X, y)\n",
    "clf_importance(X, rf)"
   ]
  },
  {
   "cell_type": "markdown",
   "metadata": {},
   "source": [
    "<h1>10. Name and Cabin</h1>"
   ]
  },
  {
   "cell_type": "code",
   "execution_count": 22,
   "metadata": {},
   "outputs": [],
   "source": [
    "def parse_model_4(X):\n",
    "    target = X.Survived\n",
    "    # extract title from the name\n",
    "    X['Title'] = X.Name.map(lambda x: x.split(',')[1].split('.')[0])\n",
    "    \n",
    "    # extract if has or has not a surname from name\n",
    "    X['Surname'] = X.Name.map(lambda x : '(' in x)\n",
    "    \n",
    "    # get cabin if any\n",
    "    X['Cabin'] = X.Cabin.map(lambda x : x[0] if not pd.isnull(x) else -1)\n",
    "\n",
    "    # parse Pclass, Sex and others\n",
    "    to_dummy = ['Pclass','Sex','Title','Embarked','Cabin']\n",
    "    for dum in to_dummy:\n",
    "        split_feature = pd.get_dummies(X[dum], prefix = 'split_'+dum)\n",
    "        X = X.join(split_feature)\n",
    "        del X[dum]\n",
    " \n",
    "    #complete issing ages with median\n",
    "    X['Age'] = X.Age.fillna(X.Age.median())\n",
    "    X['is_child'] = X.Age < 8\n",
    "    \n",
    "    # remove useless columns\n",
    "    to_del = ['Name','Survived','Ticket']\n",
    "    for col in to_del : del X[col]\n",
    "        \n",
    "    return X, target\n",
    "\n",
    "X, y = parse_model_4(train.copy())"
   ]
  },
  {
   "cell_type": "code",
   "execution_count": 23,
   "metadata": {},
   "outputs": [
    {
     "name": "stdout",
     "output_type": "stream",
     "text": [
      "LogisticRegression Score : 0.8238448861562948\n",
      "Coefficient weights : [[-0.02374722 -0.5206733  -0.3771428   0.00518699  0.98625459  0.72204108\n",
      "   0.4292982  -0.51683176  1.12641865 -0.49191113 -0.19752618  0.14524331\n",
      "  -0.37498567 -0.16341019 -0.27929748  0.07597255  0.05727005  1.79224423\n",
      "   0.32912008  0.08023154  0.05121684 -0.84398325  0.27603417  0.22876079\n",
      "  -0.82155693  0.24438969  0.03478395  0.33587864  0.28186724 -0.10112741\n",
      "  -0.51300281  0.05303841  0.24316966 -0.11100334  0.76561121  0.96194421\n",
      "   0.10375548 -0.63950677 -0.22949854  0.78440548]]\n"
     ]
    },
    {
     "data": {
      "image/png": "[encoded data removed]",
      "text/plain": [
       "<matplotlib.figure.Figure at 0x1a1f37e390>"
      ]
     },
     "metadata": {},
     "output_type": "display_data"
    }
   ],
   "source": [
    "lr = LogisticRegression()\n",
    "score = compute_score(lr, X, y)\n",
    "print('LogisticRegression Score : {}'.format(score))\n",
    "lr.fit(X, y)\n",
    "print('Coefficient weights : {}'.format(lr.coef_))\n",
    "plt.figure(figsize=(20,10))\n",
    "plt.bar(range(len(X.columns)),lr.coef_[0],1/1.5,tick_label = X.columns)\n",
    "plt.setp(plt.gca().get_xmajorticklabels(),size=20,rotation=90); "
   ]
  },
  {
   "cell_type": "code",
   "execution_count": 24,
   "metadata": {},
   "outputs": [
    {
     "name": "stdout",
     "output_type": "stream",
     "text": [
      "RandomForest Score : 0.8058667906476624\n"
     ]
    },
    {
     "data": {
      "image/png": "[encoded data removed]",
      "text/plain": [
       "<matplotlib.figure.Figure at 0x1a1f37e400>"
      ]
     },
     "metadata": {},
     "output_type": "display_data"
    },
    {
     "name": "stdout",
     "output_type": "stream",
     "text": [
      "1. feature : Fare (0.195565)\n",
      "2. feature : Age (0.193315)\n",
      "3. feature : split_Sex_male (0.090918)\n",
      "4. feature : Surname (0.064990)\n",
      "5. feature : split_Title_ Mr (0.063196)\n",
      "6. feature : SibSp (0.044225)\n",
      "7. feature : split_Title_ Miss (0.042007)\n",
      "8. feature : Parch (0.036466)\n",
      "9. feature : split_Cabin_-1 (0.033768)\n",
      "10. feature : split_Title_ Mrs (0.033113)\n",
      "11. feature : split_Sex_female (0.031997)\n",
      "12. feature : split_Pclass_3 (0.031201)\n",
      "13. feature : split_Pclass_1 (0.020848)\n",
      "14. feature : split_Pclass_2 (0.016930)\n",
      "15. feature : split_Embarked_C (0.015962)\n",
      "16. feature : split_Title_ Master (0.013613)\n",
      "17. feature : split_Embarked_Q (0.012883)\n",
      "18. feature : split_Embarked_S (0.011707)\n",
      "19. feature : is_child (0.010439)\n",
      "20. feature : split_Cabin_C (0.008097)\n",
      "21. feature : split_Cabin_D (0.006140)\n",
      "22. feature : split_Cabin_E (0.004317)\n",
      "23. feature : split_Cabin_B (0.003364)\n",
      "24. feature : split_Cabin_A (0.003192)\n",
      "25. feature : split_Cabin_G (0.002489)\n",
      "26. feature : split_Title_ Capt (0.002221)\n",
      "27. feature : split_Cabin_F (0.001978)\n",
      "28. feature : split_Title_ Major (0.001625)\n",
      "29. feature : split_Title_ Ms (0.000821)\n",
      "30. feature : split_Title_ Col (0.000759)\n",
      "31. feature : split_Title_ Don (0.000548)\n",
      "32. feature : split_Title_ Dr (0.000471)\n",
      "33. feature : split_Title_ Rev (0.000437)\n",
      "34. feature : split_Cabin_T (0.000312)\n",
      "35. feature : split_Title_ Lady (0.000070)\n",
      "36. feature : split_Title_ Jonkheer (0.000013)\n",
      "37. feature : split_Title_ Mme (0.000000)\n",
      "38. feature : split_Title_ the Countess (0.000000)\n",
      "39. feature : split_Title_ Sir (0.000000)\n",
      "40. feature : split_Title_ Mlle (0.000000)\n"
     ]
    }
   ],
   "source": [
    "score = compute_score(rf, X, y)\n",
    "print('RandomForest Score : {}'.format(score))\n",
    "rf.fit(X, y)\n",
    "clf_importance(X, rf)  "
   ]
  },
  {
   "cell_type": "code",
   "execution_count": null,
   "metadata": {
    "collapsed": true
   },
   "outputs": [],
   "source": []
  }
 ],
 "metadata": {
  "kernelspec": {
   "display_name": "Python 3",
   "language": "python",
   "name": "python3"
  },
  "language_info": {
   "codemirror_mode": {
    "name": "ipython",
    "version": 3
   },
   "file_extension": ".py",
   "mimetype": "text/x-python",
   "name": "python",
   "nbconvert_exporter": "python",
   "pygments_lexer": "ipython3",
   "version": "3.6.4"
  }
 },
 "nbformat": 4,
 "nbformat_minor": 2
}
